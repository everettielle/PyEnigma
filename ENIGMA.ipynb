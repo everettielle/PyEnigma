{
 "cells": [
  {
   "cell_type": "markdown",
   "metadata": {},
   "source": [
    "#### Copyright (C) Everett Lee"
   ]
  },
  {
   "cell_type": "code",
   "execution_count": null,
   "metadata": {},
   "outputs": [],
   "source": [
    "# Licensed under the Apache License, Version 2.0 (the \"License\");\n",
    "# you may not use this file except in compliance with the License.\n",
    "# You may obtain a copy of the License at\n",
    "#\n",
    "# https://www.apache.org/licenses/LICENSE-2.0\n",
    "#\n",
    "# Unless required by applicable law or agreed to in writing, software\n",
    "# distributed under the License is distributed on an \"AS IS\" BASIS,\n",
    "# WITHOUT WARRANTIES OR CONDITIONS OF ANY KIND, either express or implied.\n",
    "# See the License for the specific language governing permissions and\n",
    "# limitations under the License."
   ]
  },
  {
   "cell_type": "markdown",
   "metadata": {},
   "source": [
    "# Embodying Enigma into a computer code"
   ]
  },
  {
   "cell_type": "markdown",
   "metadata": {},
   "source": [
    "## Explanation: What is Enigma?\n",
    "\n",
    "The Enigma machine is an encryption device developed and used in the early- to mid-20th century to protect commercial, diplomatic and military communication. It was employed extensively by Nazi Germany during World War II, in all branches of the German military.\n",
    "\n",
    "Enigma has an electromechanical rotor mechanism that scrambles the 26 letters of the alphabet. In typical use, one person enters text on the Enigma's keyboard and another person writes down which of 26 lights above the keyboard lights up at each key press. If plain text is entered, the lit-up letters are the encoded ciphertext. Entering ciphertext transforms it back into readable plaintext. The rotor mechanism changes the electrical connections between the keys and the lights with each keypress. The security of the system depends on Enigma machine settings that were changed daily, based on secret key lists distributed in advance, and on other settings that change for each message. The receiving station has to know and use the exact settings employed by the transmitting station to successfully decrypt a message.\n",
    "\n",
    "As used in practice, the Enigma encryption proved vulnerable to cryptanalytic attacks by Germany's adversaries, at first Polish and French intelligence and, later, a massive effort mounted by the United Kingdom at Bletchley Park as part of the Ultra program. While Germany introduced a series of improvements to Enigma, and these hampered decryption efforts to varying degrees, they did not ultimately prevent Britain and its allies from exploiting Enigma-encoded messages as a major source of intelligence during the war. Many commentators say the flow of communications intelligence from Ultra's decryption of Enigma, Lorenz and other ciphers shortened the war significantly and may even have altered its outcome."
   ]
  },
  {
   "cell_type": "markdown",
   "metadata": {},
   "source": [
    "-[Wikipedia](https://en.wikipedia.org/wiki/Enigma_machine)"
   ]
  },
  {
   "cell_type": "markdown",
   "metadata": {},
   "source": [
    "## Step 01: Declaration of rotors"
   ]
  },
  {
   "cell_type": "markdown",
   "metadata": {},
   "source": [
    "Referring from Wikipedia \"[Enigma rotor details](https://en.wikipedia.org/wiki/Enigma_rotor_details)\", 29 of rotor-wiring methods are discovered.\n",
    "\n",
    "Each rotor is a simple substitution cipher. The letters are listed as connected to alphabet order. If the first letter of a rotor is E, this means that the A is wired to the E. This does not mean that E is wired to A. This looped wiring is only the case with the reflectors.\n",
    "\n",
    "**Terminology**\n",
    " * The reflector is also known as the reversing drum or, from the German, the Umkehrwalze or UKW.\n",
    "\n",
    "So, we can simulate this rotor-wiring methods with using `str` datatype."
   ]
  },
  {
   "cell_type": "code",
   "execution_count": null,
   "metadata": {},
   "outputs": [],
   "source": [
    "# Rotor-wiring methods on Wikipedia\n",
    "\n",
    "# Commercial Enigma A,B (1924)\n",
    "IC = 'DMTWSILRUYQNKFEJCAZBPGXOHV'\n",
    "IIC = 'HQZGPJTMOBLNCIFDYAWVEUSRKX'\n",
    "IIIC = 'UQNTLSZFMREHDPXKIBVYGJCWOA'\n",
    "\n",
    "# German Railway (7 February 1941)\n",
    "I = 'JGDQOXUSCAMIFRVTPNEWKBLZYH'\n",
    "II = 'NTZPSFBOKMWRCJDIVLAEYUXHGQ'\n",
    "III = 'JVIUBHTCDYAKEQZPOSGXNRMWFL'\n",
    "UKW = 'QYHOGNECVPUZTFDJAXWMKISRBL'\n",
    "ETW = 'QWERTZUIOASDFGHJKPYXCVBNML'\n",
    "\n",
    "# Swiss K (February 1939)\n",
    "I_K = \"PEZUOHXSCVFMTBGLRINQJWAYDK\"\n",
    "II_K = \"ZOUESYDKFWPCIQXHMVBLGNJRAT\"\n",
    "III_K = \"EHRVXGAOBQUSIMZFLYNWKTPDJC\"\n",
    "UKW_K = \"IMETCGFRAYSQBZXWLHKDVUPOJN\"\n",
    "ETW_K = \"QWERTZUIOASDFGHJKPYXCVBNML\"\n",
    "\n",
    "# Enigma I (1930)\n",
    "I = \"EKMFLGDQVZNTOWYHXUSPAIBRCJ\"\n",
    "II = \"AJDKSIRUXBLHWTMCQGZNPYFVOE\"\n",
    "III = \"BDFHJLCPRTXVZNYEIWGAKMUSQO\"\n",
    "# M3 Army (December 1938)\n",
    "IV = \"ESOVPZJAYQUIRHXLNFTGKDCMWB\"\n",
    "V = \"VZBRGITYUPSDNHLXAWMJQOFECK\"\n",
    "#M3 & M4 Naval (FEB 1942) (1939)\n",
    "VI = \"JPGVOUMFYQBENHZRDKASXLICTW\"\n",
    "VII = \"NZJHGRCXMYSWBOUFAIVLPEKQDT\"\n",
    "VIII = \"FKQHTLXOCBJSPDZRAMEWNIUYGV\"\n",
    "\n",
    "# M4 R2 (Spring 1941)\n",
    "Beta = \"LEYJVCNIXWPBQMDRTAKZGFUHOS\"\n",
    "# M4 R2 (Spring 1942)\n",
    "Gamma = \"FSOKANUERHMBTIYCWLQPZXVGJD\"\n",
    "\n",
    "Reflector_A = \"EJMZALYXVBWFCRQUONTSPIKHGD\"\n",
    "Reflector_B = \"YRUHQSLDPXNGOKMIEBFZCWVJAT\"\n",
    "Reflector_C = \"FVPJIAOYEDRZXWGCTKUQSBNMHL\"\n",
    "# M4 R1 (M3 + Thin) (1940)\n",
    "Reflector_B_Thin = \"ENKQAUYWJICOPBLMDXZVFTHRGS\"\n",
    "Reflector_C_Thin = \"RDOBJNTKVEHMLFCWZAXGYIPSUQ\"\n",
    "# Enigma I\n",
    "ETW_I = \"ABCDEFGHIJKLMNOPQRSTUVWXYZ\""
   ]
  }
 ],
 "metadata": {
  "kernelspec": {
   "display_name": "Python 3",
   "language": "python",
   "name": "python3"
  },
  "language_info": {
   "codemirror_mode": {
    "name": "ipython",
    "version": 3
   },
   "file_extension": ".py",
   "mimetype": "text/x-python",
   "name": "python",
   "nbconvert_exporter": "python",
   "pygments_lexer": "ipython3",
   "version": "3.7.3"
  }
 },
 "nbformat": 4,
 "nbformat_minor": 4
}
